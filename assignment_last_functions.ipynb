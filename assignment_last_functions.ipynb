{
 "cells": [
  {
   "cell_type": "markdown",
   "metadata": {},
   "source": [
    "#### Teacher Name: Sir Sajid Majeed\n",
    "#### Student Name: Ambreen Abdul Raheem\n",
    "#### Course Name: Data Science With Artificial Intelligence\n",
    "#### Topic Name: Python For Data Science\n",
    "#### University Name: NED Academy (Empowering For Professional Excellence)\n",
    "#### GitHub: https://github.com/ambreenraheem\n",
    "#### LinkedIn: https://www.linkedin.com/in/ambreen-abdulraheem-122509300/\n",
    "#### E-mail: ambreen.a.raheem@outlook.com\n",
    "#### Started Date: 14-September-2024"
   ]
  },
  {
   "cell_type": "markdown",
   "metadata": {},
   "source": [
    "## Finale Assignment: Python for Data Science"
   ]
  },
  {
   "cell_type": "markdown",
   "metadata": {},
   "source": [
    "#### 1. Write a loop that makes seven calls to print(), so we get on the output the following triangle:\n",
    "\n",
    "\"#\"\n",
    "##### With HashTag \n"
   ]
  },
  {
   "cell_type": "code",
   "execution_count": 2,
   "metadata": {},
   "outputs": [
    {
     "name": "stdout",
     "output_type": "stream",
     "text": [
      "#\n",
      "##\n",
      "###\n",
      "####\n",
      "#####\n",
      "######\n",
      "#######\n",
      "This is my Triangle.\n"
     ]
    }
   ],
   "source": [
    "for i in range(1, 8):\n",
    "    print('#' * i)\n",
    "\n",
    "print(\"This is my Triangle.\")"
   ]
  },
  {
   "cell_type": "markdown",
   "metadata": {},
   "source": [
    "#### 2. Use nested loops to create the following:\n",
    "\"# # # # # # # #\"   (8*8)\n"
   ]
  },
  {
   "cell_type": "code",
   "execution_count": 3,
   "metadata": {},
   "outputs": [
    {
     "name": "stdout",
     "output_type": "stream",
     "text": [
      "# # # # # # # # \n",
      "# # # # # # # # \n",
      "# # # # # # # # \n",
      "# # # # # # # # \n",
      "# # # # # # # # \n",
      "# # # # # # # # \n",
      "# # # # # # # # \n",
      "# # # # # # # # \n",
      "\n"
     ]
    }
   ],
   "source": [
    "# First pattern\n",
    "for i in range(8):  # Outer loop for rows\n",
    "    for j in range(8):  # Inner loop for columns\n",
    "        print(\"#\", end=\" \")  # Print \"#\" without a newline\n",
    "    print()  # Move to the next line after each row\n",
    "\n",
    "print()  # Print a blank line between patterns"
   ]
  },
  {
   "cell_type": "markdown",
   "metadata": {},
   "source": [
    "#### 3. Iterate through the list, [Python, Numpy, Pandas, Django, Flask] using a for loop and print out the items."
   ]
  },
  {
   "cell_type": "code",
   "execution_count": 1,
   "metadata": {},
   "outputs": [
    {
     "name": "stdout",
     "output_type": "stream",
     "text": [
      "Data Science Cource: Python\n",
      "Data Science Cource: Numpy\n",
      "Data Science Cource: Pandas\n",
      "Data Science Cource: Django\n",
      "Data Science Cource: Flask\n"
     ]
    }
   ],
   "source": [
    "Items = ['Python', 'Numpy', 'Pandas', 'Django', 'Flask']\n",
    "for data in Items:\n",
    "    print(\"Data Science Cource:\",data)"
   ]
  },
  {
   "cell_type": "markdown",
   "metadata": {},
   "source": [
    "#### 4. Use for loop to iterate from 0 to 100 and print the sum of all evens and the sum of all odds."
   ]
  },
  {
   "cell_type": "code",
   "execution_count": 2,
   "metadata": {},
   "outputs": [
    {
     "name": "stdout",
     "output_type": "stream",
     "text": [
      "0\n",
      "1\n",
      "2\n",
      "3\n",
      "4\n",
      "5\n",
      "6\n",
      "7\n",
      "8\n",
      "9\n",
      "10\n",
      "11\n",
      "12\n",
      "13\n",
      "14\n",
      "15\n",
      "16\n",
      "17\n",
      "18\n",
      "19\n",
      "20\n",
      "21\n",
      "22\n",
      "23\n",
      "24\n",
      "25\n",
      "26\n",
      "27\n",
      "28\n",
      "29\n",
      "30\n",
      "31\n",
      "32\n",
      "33\n",
      "34\n",
      "35\n",
      "36\n",
      "37\n",
      "38\n",
      "39\n",
      "40\n",
      "41\n",
      "42\n",
      "43\n",
      "44\n",
      "45\n",
      "46\n",
      "47\n",
      "48\n",
      "49\n",
      "50\n",
      "51\n",
      "52\n",
      "53\n",
      "54\n",
      "55\n",
      "56\n",
      "57\n",
      "58\n",
      "59\n",
      "60\n",
      "61\n",
      "62\n",
      "63\n",
      "64\n",
      "65\n",
      "66\n",
      "67\n",
      "68\n",
      "69\n",
      "70\n",
      "71\n",
      "72\n",
      "73\n",
      "74\n",
      "75\n",
      "76\n",
      "77\n",
      "78\n",
      "79\n",
      "80\n",
      "81\n",
      "82\n",
      "83\n",
      "84\n",
      "85\n",
      "86\n",
      "87\n",
      "88\n",
      "89\n",
      "90\n",
      "91\n",
      "92\n",
      "93\n",
      "94\n",
      "95\n",
      "96\n",
      "97\n",
      "98\n",
      "99\n",
      "100\n"
     ]
    }
   ],
   "source": [
    "for i in range(0,101):\n",
    "    print(i)"
   ]
  },
  {
   "cell_type": "code",
   "execution_count": 3,
   "metadata": {},
   "outputs": [
    {
     "name": "stdout",
     "output_type": "stream",
     "text": [
      "Sum of all evens: 2550\n",
      "Sum of all odds: 2500\n"
     ]
    }
   ],
   "source": [
    "even_sum = 0\n",
    "odd_sum = 0\n",
    "\n",
    "for i in range(101):  # Iterating from 0 to 100\n",
    "    if i % 2 == 0:\n",
    "        even_sum += i  # Add to even sum\n",
    "    else:\n",
    "        odd_sum += i   # Add to odd sum\n",
    "\n",
    "print(\"Sum of all evens:\", even_sum)\n",
    "print(\"Sum of all odds:\", odd_sum)\n"
   ]
  },
  {
   "cell_type": "markdown",
   "metadata": {},
   "source": [
    "#### 5. Calculate the cube of all numbers from 1 to a given number"
   ]
  },
  {
   "cell_type": "markdown",
   "metadata": {},
   "source": [
    "i. Solution"
   ]
  },
  {
   "cell_type": "code",
   "execution_count": 12,
   "metadata": {},
   "outputs": [
    {
     "name": "stdout",
     "output_type": "stream",
     "text": [
      "The given Number of user:  9\n",
      "The Cube of all Number from 1 to a given number:  [1, 8, 27, 64, 125, 216, 343, 512, 729]\n"
     ]
    }
   ],
   "source": [
    "n = int(input(\"Enter any Number:\\t\"))        # with user number\n",
    "\n",
    "def calculate_cubes(n):\n",
    "    cubes = [i**3 for i in range(1, n + 1)] # Iteration range from 1 to givn number\n",
    "    return cubes\n",
    "\n",
    "print(\"The given Number of user: \", n)\n",
    "result = calculate_cubes(n)\n",
    "print(\"The Cube of all Number from 1 to a given number: \", result)"
   ]
  },
  {
   "cell_type": "markdown",
   "metadata": {},
   "source": [
    "ii. Solution"
   ]
  },
  {
   "cell_type": "code",
   "execution_count": 10,
   "metadata": {},
   "outputs": [
    {
     "name": "stdout",
     "output_type": "stream",
     "text": [
      "User number is:\t 8\n"
     ]
    },
    {
     "data": {
      "text/plain": [
       "512"
      ]
     },
     "execution_count": 10,
     "metadata": {},
     "output_type": "execute_result"
    }
   ],
   "source": [
    "number= int(input(\"Enter a number:  \")) # with user input\n",
    "def cube():\n",
    "    x = number**3                  # cube of only one number  \n",
    "    return x\n",
    "print(\"User number is:\\t\",number)\n",
    "cube()             # both parameter and argument are empty but if you want to put any one then put it in (number) the user input"
   ]
  },
  {
   "cell_type": "markdown",
   "metadata": {},
   "source": [
    "#### 6. Declare a function add_two_numbers. It takes two parameters and it returns a sum."
   ]
  },
  {
   "cell_type": "markdown",
   "metadata": {},
   "source": [
    "i. Solution"
   ]
  },
  {
   "cell_type": "code",
   "execution_count": 63,
   "metadata": {},
   "outputs": [
    {
     "name": "stdout",
     "output_type": "stream",
     "text": [
      "The total Sum of given No.1 ( 25 ) and No.2 ( 25 ) in Function:  50\n"
     ]
    }
   ],
   "source": [
    "number1 = int(input(\"Enter your 1st Number: \"))\n",
    "number2 = int(input(\"Enter Your 2nd Number: \"))\n",
    "\n",
    "def add_two_numbers():\n",
    "    \n",
    "    sum = number1 + number2\n",
    "    return sum\n",
    "\n",
    "add = add_two_numbers()\n",
    "print(\"The total Sum of given No.1 (\", number1, \") and No.2 (\" ,number2, \") in Function: \", add)\n"
   ]
  },
  {
   "cell_type": "markdown",
   "metadata": {},
   "source": [
    "ii. Solution"
   ]
  },
  {
   "cell_type": "code",
   "execution_count": 13,
   "metadata": {},
   "outputs": [
    {
     "data": {
      "text/plain": [
       "9"
      ]
     },
     "execution_count": 13,
     "metadata": {},
     "output_type": "execute_result"
    }
   ],
   "source": [
    "def product(a,b,c):\n",
    "    return a+b+c\n",
    "product(2,3,4)"
   ]
  },
  {
   "cell_type": "markdown",
   "metadata": {},
   "source": [
    "#### 7.  Area of a circle is calculated as follows: area = π x r x r. Write a function that calculates area_of_circle."
   ]
  },
  {
   "cell_type": "code",
   "execution_count": 23,
   "metadata": {},
   "outputs": [
    {
     "name": "stdout",
     "output_type": "stream",
     "text": [
      "The calculation of radius:  201.06192982974676\n"
     ]
    }
   ],
   "source": [
    "import math\n",
    "\n",
    "radius =int(input(\"Enter a number for area_of_circle: \"))\n",
    "\n",
    "def area_of_circle(r):\n",
    "    area = math.pi * r * r\n",
    "    return area\n",
    "\n",
    "result = area_of_circle(radius)\n",
    "print(\"The calculation of radius: \", result)  \n"
   ]
  },
  {
   "cell_type": "markdown",
   "metadata": {},
   "source": [
    "#### 8. Write a function called add_all_nums which takes an arbitrary number of arguments and sums all the arguments. Check if all the list items are number types. If not, do give reasonable feedback."
   ]
  },
  {
   "cell_type": "code",
   "execution_count": 51,
   "metadata": {},
   "outputs": [
    {
     "name": "stdout",
     "output_type": "stream",
     "text": [
      "These are Valid Numbers 13.5\n",
      "1, Two, 4 Error: All arguments must be numbers.\n"
     ]
    }
   ],
   "source": [
    "def add_all_nums(*args):            \n",
    "    if not all(isinstance(num, (int, float)) for num in args):\n",
    "        return \"Error: All arguments must be numbers.\"\n",
    "    \n",
    "    total = sum(args)\n",
    "    return total\n",
    "\n",
    "result1 = add_all_nums(1, 2, 6, 4.5)  # Valid input\n",
    "print(\"These are Valid Numbers\", result1)\n",
    "\n",
    "result2 = add_all_nums(1, 'two', 3)    # Invalid input\n",
    "print(\"1, Two, 4\", result2)\n"
   ]
  },
  {
   "cell_type": "markdown",
   "metadata": {},
   "source": [
    "#### 9. Temperature in °C can be converted to °F using this formula: °F = (°C x 9/5) + 32. Write a function which converts °C to °F, convert_celsius_to-fahrenheit."
   ]
  },
  {
   "cell_type": "code",
   "execution_count": 56,
   "metadata": {},
   "outputs": [
    {
     "name": "stdout",
     "output_type": "stream",
     "text": [
      "The fahrenheit of given Celsius Temperature:  77.0\n"
     ]
    }
   ],
   "source": [
    "celsius_temp = int(input(\"Enter Temperature in Calsius: \"))\n",
    "\n",
    "def convert_celsius_to_fahrenheit(celsius): # the parameter is celsius\n",
    "    \n",
    "    fahrenheit = (celsius * 9/5) + 32\n",
    "    return fahrenheit\n",
    "\n",
    "temperature = convert_celsius_to_fahrenheit(celsius_temp)\n",
    "print(\"The fahrenheit of given Celsius Temperature: \",temperature)\n"
   ]
  },
  {
   "cell_type": "markdown",
   "metadata": {},
   "source": [
    "#### 10. Write a function called check-season, it takes a month parameter and returns the season: Autumn, Winter, Spring or Summer."
   ]
  },
  {
   "cell_type": "code",
   "execution_count": 65,
   "metadata": {},
   "outputs": [
    {
     "name": "stdout",
     "output_type": "stream",
     "text": [
      " Your Favourite Season of the Year is:  Autumn\n"
     ]
    }
   ],
   "source": [
    "month = input(\"Enter the name of your Favourite Month for Season of the Year: \")    # input for a month parameter \n",
    "\n",
    "\n",
    "def check_season(month):\n",
    "    month = month.lower()  # Convert to lowercase for case-insensitivity\n",
    "    \n",
    "    if month in ['december', 'january', 'february']:\n",
    "        return 'Winter'\n",
    "    elif month in ['march', 'april', 'may']:\n",
    "        return 'Spring'\n",
    "    elif month in ['june', 'july', 'august']:\n",
    "        return 'Summer'\n",
    "    elif month in ['september', 'october', 'november']:\n",
    "        return 'Autumn'\n",
    "    else:\n",
    "        return 'Error: Invalid month. Please enter a valid month name.'\n",
    "\n",
    "season = check_season(month)  \n",
    "print(\" Your Favourite Season of the Year is: \",season)\n"
   ]
  },
  {
   "cell_type": "markdown",
   "metadata": {},
   "source": [
    "#### 11. Write a function called calculate_slope which return the slope of a linear equation"
   ]
  },
  {
   "cell_type": "code",
   "execution_count": 66,
   "metadata": {},
   "outputs": [
    {
     "name": "stdout",
     "output_type": "stream",
     "text": [
      "The Slope of Linear Equation:  1.0\n"
     ]
    }
   ],
   "source": [
    "def calculate_slope(x1, y1, x2, y2):\n",
    "    if x1 == x2:\n",
    "        return \"Error: The slope is undefined (vertical line).\"\n",
    "    \n",
    "    slope = (y2 - y1) / (x2 - x1)\n",
    "    return slope\n",
    "\n",
    "point1 = (1, 2)  # (x1, y1)\n",
    "point2 = (3, 4)  # (x2, y2)\n",
    "result = calculate_slope(point1[0], point1[1], point2[0], point2[1])\n",
    "print(\"The Slope of Linear Equation: \",result) \n"
   ]
  },
  {
   "cell_type": "markdown",
   "metadata": {},
   "source": [
    "#### 12. Quadratic equation is calculated as follows: ax² + bx + c = 0. Write a function which calculates the solution set of a quadratic equation, solve_quadratic_eqn."
   ]
  },
  {
   "cell_type": "code",
   "execution_count": 28,
   "metadata": {},
   "outputs": [
    {
     "name": "stdout",
     "output_type": "stream",
     "text": [
      "((2+0j), (1+0j))\n"
     ]
    }
   ],
   "source": [
    "import cmath\n",
    "\n",
    "def solve_quadratic_eqn(a, b, c):\n",
    "    if a == 0:\n",
    "        return \"Error: 'a' cannot be zero in a quadratic equation.\"\n",
    "    \n",
    "    # Calculate the discriminant\n",
    "    discriminant = b**2 - 4*a*c\n",
    "    \n",
    "    # Calculate the two solutions using the quadratic formula\n",
    "    root1 = (-b + cmath.sqrt(discriminant)) / (2 * a)\n",
    "    root2 = (-b - cmath.sqrt(discriminant)) / (2 * a)\n",
    "    \n",
    "    return (root1, root2)\n",
    "\n",
    "a = 1\n",
    "b = -3\n",
    "c = 2\n",
    "result = solve_quadratic_eqn(a, b, c)\n",
    "print(result) \n"
   ]
  },
  {
   "cell_type": "markdown",
   "metadata": {},
   "source": [
    "#### 13. Declare a function named print_list. It takes a list as a parameter and it prints out each element of the list."
   ]
  },
  {
   "cell_type": "code",
   "execution_count": 69,
   "metadata": {},
   "outputs": [
    {
     "name": "stdout",
     "output_type": "stream",
     "text": [
      "1\n",
      "2\n",
      "3\n",
      "apple\n",
      "banana\n"
     ]
    }
   ],
   "source": [
    "my_list = [1, 2, 3, 'apple', 'banana']\n",
    "\n",
    "\n",
    "def print_list(my_list):\n",
    "    \n",
    "    for element in my_list:\n",
    "        print(element)\n",
    "        \n",
    "print_list(my_list)\n"
   ]
  },
  {
   "cell_type": "markdown",
   "metadata": {},
   "source": [
    "#### 14. Declare a function named reverse_list. It takes an array as a parameter and it returns the reverse of the array (use loops).\n",
    "\n",
    "print(reverse_list([1, 2, 3, 4, 5]))\\\n",
    "[5, 4, 3, 2, 1]\\\n",
    "print(reverse_list1([&quot;A&quot;, &quot;B&quot;, &quot;C&quot;]))\\\n",
    "[&quot;C&quot;, &quot;B&quot;, &quot;A&quot;]"
   ]
  },
  {
   "cell_type": "code",
   "execution_count": 2,
   "metadata": {},
   "outputs": [
    {
     "name": "stdout",
     "output_type": "stream",
     "text": [
      "This is the List no. 1 in reverse form: [1, 2, 3, 4, 5]\n",
      "This is the List no. 2 in reverse form: ['A', 'B', 'C']\n"
     ]
    }
   ],
   "source": [
    "\n",
    "reverse_list1=[1, 2, 3, 4, 5]\n",
    "reverse_list2=[\"A\", \"B\", \"C\"]\n",
    "\n",
    "\n",
    "def reverse_list(arr):      # array as a parameter\n",
    "    reversed_arr = []\n",
    "    for i in range(len(arr) - 1, -1, -1):\n",
    "        reversed_arr.append(arr[i])\n",
    "    return reversed_arr\n",
    "\n",
    "print(\"This is the List no. 1 in reverse form:\", reverse_list1)  \n",
    "print(\"This is the List no. 2 in reverse form:\", reverse_list2)  \n"
   ]
  },
  {
   "cell_type": "markdown",
   "metadata": {},
   "source": [
    "#### 15. Declare a function named evens_and_odds . It takes a positive integer as a parameter and it counts the number of evens and odds in the number."
   ]
  },
  {
   "cell_type": "markdown",
   "metadata": {},
   "source": [
    "i. Solution"
   ]
  },
  {
   "cell_type": "code",
   "execution_count": 4,
   "metadata": {},
   "outputs": [
    {
     "name": "stdout",
     "output_type": "stream",
     "text": [
      "Evens: 3 , Odds: 3\n"
     ]
    }
   ],
   "source": [
    "def evens_and_odds(number):\n",
    "    if number < 0:\n",
    "        return \"Error: Please enter a positive integer.\"\n",
    "    \n",
    "    even_count = 0\n",
    "    odd_count = 0\n",
    "    \n",
    "    for digit in str(number):\n",
    "        if int(digit) % 2 == 0:\n",
    "            even_count += 1\n",
    "        else:\n",
    "            odd_count += 1\n",
    "            \n",
    "    return even_count, odd_count\n",
    "\n",
    "# Example usage:\n",
    "number = 123456\n",
    "evens, odds = evens_and_odds(number)\n",
    "print(\"Evens:\" , evens, \", Odds:\", odds) \n"
   ]
  },
  {
   "cell_type": "markdown",
   "metadata": {},
   "source": [
    "ii. Solution"
   ]
  },
  {
   "cell_type": "code",
   "execution_count": 71,
   "metadata": {},
   "outputs": [],
   "source": [
    "def check_even(num):\n",
    "    \"\"\"\n",
    "    This function returns if a given number is odd or even.\n",
    "    input - any valid integer\n",
    "    output - odd/even\n",
    "    if input - string\n",
    "    output - Enter valid Number\n",
    "    created on 29th August 2024\n",
    "    \"\"\"\n",
    "    if type(num) == int:\n",
    "    \n",
    "       if num % 2 == 0:\n",
    "         return \"even\"\n",
    "       else:\n",
    "         return \"odd\"\n",
    "    else:\n",
    "      return \"Enter valid Number\"  # it is define function that's why it is working"
   ]
  },
  {
   "cell_type": "code",
   "execution_count": 72,
   "metadata": {},
   "outputs": [
    {
     "name": "stdout",
     "output_type": "stream",
     "text": [
      "Enter valid Number\n",
      "odd\n",
      "even\n"
     ]
    }
   ],
   "source": [
    "# calling of function with print\n",
    "print(check_even(\"rhkun34\"))\n",
    "print(check_even(7))\n",
    "print(check_even(8))"
   ]
  },
  {
   "cell_type": "markdown",
   "metadata": {},
   "source": [
    "#### 16. Write different functions which take lists. They should calculate_mean, calculate_median, calculate_mode, calculate_range, calculate_variance, calculate_std (standard deviation)."
   ]
  },
  {
   "cell_type": "code",
   "execution_count": 76,
   "metadata": {},
   "outputs": [
    {
     "name": "stdout",
     "output_type": "stream",
     "text": [
      "Mean:  2.8333333333333335\n",
      "Median:  2.5\n",
      "Mode:  [2]\n",
      "Range:  4\n",
      "Variance:  1.8055555555555556\n",
      "Standard Deviation:  1.3437096247164249\n"
     ]
    }
   ],
   "source": [
    "from collections import Counter\n",
    "import math\n",
    "\n",
    "\n",
    "data = [1, 2, 2, 3, 4, 5]\n",
    "\n",
    "def calculate_mean(data):\n",
    "    if len(data) == 0:\n",
    "        return \"Error: List is empty.\"\n",
    "    return sum(data) / len(data)\n",
    "\n",
    "def calculate_median(data):\n",
    "    if len(data) == 0:\n",
    "        return \"Error: List is empty.\"\n",
    "    sorted_data = sorted(data)\n",
    "    mid = len(sorted_data) // 2\n",
    "    if len(sorted_data) % 2 == 0:\n",
    "        return (sorted_data[mid - 1] + sorted_data[mid]) / 2\n",
    "    else:\n",
    "        return sorted_data[mid]\n",
    "\n",
    "def calculate_mode(data):\n",
    "    if len(data) == 0:\n",
    "        return \"Error: List is empty.\"\n",
    "    frequency = Counter(data)\n",
    "    max_freq = max(frequency.values())\n",
    "    modes = [key for key, value in frequency.items() if value == max_freq]\n",
    "    return modes\n",
    "\n",
    "def calculate_range(data):\n",
    "    if len(data) == 0:\n",
    "        return \"Error: List is empty.\"\n",
    "    return max(data) - min(data)\n",
    "\n",
    "def calculate_variance(data):\n",
    "    if len(data) == 0:\n",
    "        return \"Error: List is empty.\"\n",
    "    mean = calculate_mean(data)\n",
    "    return sum((x - mean) ** 2 for x in data) / len(data)\n",
    "\n",
    "def calculate_std(data):\n",
    "    if len(data) == 0:\n",
    "        return \"Error: List is empty.\"\n",
    "    variance = calculate_variance(data)\n",
    "    return math.sqrt(variance)\n",
    "\n",
    "\n",
    "mean = calculate_mean(data)\n",
    "median = calculate_median(data)\n",
    "mode = calculate_mode(data)\n",
    "data_range = calculate_range(data)\n",
    "variance = calculate_variance(data)\n",
    "std_dev = calculate_std(data)\n",
    "\n",
    "print(\"Mean: \", mean)\n",
    "print(\"Median: \", median)\n",
    "print(\"Mode: \", mode)\n",
    "print(\"Range: \", data_range)\n",
    "print(\"Variance: \", variance)\n",
    "print(\"Standard Deviation: \", std_dev)\n"
   ]
  },
  {
   "cell_type": "markdown",
   "metadata": {},
   "source": [
    "#### 17. Write a function which checks if all items are unique in the list."
   ]
  },
  {
   "cell_type": "code",
   "execution_count": 90,
   "metadata": {},
   "outputs": [
    {
     "name": "stdout",
     "output_type": "stream",
     "text": [
      "Items are Unique:\t True\n",
      "Items are not Unique:    False\n",
      "Items are Unique:\t True\n",
      "Items are not Unique:    False\n"
     ]
    }
   ],
   "source": [
    "\n",
    "list1=[1,2,3,4,5]\n",
    "list2= [1,2,2,4,5]\n",
    "list3=[\"A\",\"B\",\"C\",\"D\"]\n",
    "list4=[\"A\",\"B\",\"A\",\"D\"]\n",
    "\n",
    "def are_items_unique(lst):\n",
    "    return len(lst) == len(set(lst))\n",
    "\n",
    "print(\"Items are Unique:\\t\",are_items_unique(list1)) \n",
    "print(\"Items are not Unique:   \",are_items_unique(list2))  \n",
    "print(\"Items are Unique:\\t\",are_items_unique(list3))   \n",
    "print(\"Items are not Unique:   \",are_items_unique(list4))    \n"
   ]
  },
  {
   "cell_type": "markdown",
   "metadata": {},
   "source": [
    "#### 18. Write a function which checks if all the items of the list are of the same data type."
   ]
  },
  {
   "cell_type": "code",
   "execution_count": 92,
   "metadata": {},
   "outputs": [
    {
     "name": "stdout",
     "output_type": "stream",
     "text": [
      "Same Items:\t True\n",
      "Not same Items:  False\n",
      "Same items:\t True\n",
      "Not same Items:  False\n",
      "Same Items:\t True\n"
     ]
    }
   ],
   "source": [
    "item1=[1, 2, 3, 4, 5]\n",
    "item2=[1, 2, '3', 4, 5]\n",
    "item3=['A', 'B', 'C']\n",
    "item4=['A', 1, 'B']\n",
    "item5=[]\n",
    "\n",
    "def are_items_same_type(lst):\n",
    "    if not lst:  # Check if the list is empty\n",
    "        return True  # Consider an empty list as having the same type\n",
    "    first_type = type(lst[0])\n",
    "    return all(isinstance(item, first_type) for item in lst)\n",
    "\n",
    "print(\"Same Items:\\t\",are_items_same_type(item1))     \n",
    "print(\"Not same Items: \",are_items_same_type(item2))  \n",
    "print(\"Same items:\\t\",are_items_same_type(item3))     \n",
    "print(\"Not same Items: \",are_items_same_type(item4))    \n",
    "print(\"Same Items:\\t\",are_items_same_type(item5))                  \n"
   ]
  },
  {
   "cell_type": "markdown",
   "metadata": {},
   "source": [
    "#### 19. Write a function which check if provided variable is a valid python variable"
   ]
  },
  {
   "cell_type": "code",
   "execution_count": 96,
   "metadata": {},
   "outputs": [
    {
     "name": "stdout",
     "output_type": "stream",
     "text": [
      "my_variable:  True\n",
      "2nd_variable: False\n",
      "class:        False\n",
      "_validVar:    True\n",
      "invalid-var:  False\n"
     ]
    }
   ],
   "source": [
    "import keyword\n",
    "\n",
    "keyw1=(\"my_variable\")\n",
    "keyw2=(\"2nd_variable\")\n",
    "keyw3=(\"class\")\n",
    "keyw4=(\"_validVar\")\n",
    "keyw5=(\"invalid-var\")\n",
    "\n",
    "def is_valid_variable_name(name):\n",
    "    # Check if the name is a keyword\n",
    "    if name in keyword.kwlist:\n",
    "        return False\n",
    "    \n",
    "    # Check if the name is a valid identifier\n",
    "    if not name.isidentifier():\n",
    "        return False\n",
    "\n",
    "    return True\n",
    "\n",
    "print(\"my_variable: \",is_valid_variable_name(keyw1))  \n",
    "print(\"2nd_variable:\",is_valid_variable_name(keyw2))  \n",
    "print(\"class:       \",is_valid_variable_name(keyw3))          \n",
    "print(\"_validVar:   \",is_valid_variable_name(keyw4))     \n",
    "print(\"invalid-var: \",is_valid_variable_name(keyw5))   \n"
   ]
  },
  {
   "cell_type": "markdown",
   "metadata": {},
   "source": [
    "#### 20. Write a Python program to detect the number of local variables declared in a function."
   ]
  },
  {
   "cell_type": "code",
   "execution_count": 98,
   "metadata": {},
   "outputs": [
    {
     "name": "stdout",
     "output_type": "stream",
     "text": [
      "Number of local variables:  4\n"
     ]
    }
   ],
   "source": [
    "def count_local_variables():\n",
    "    a = 10\n",
    "    b = 20\n",
    "    c = \"Hello\"\n",
    "    d = [1, 2, 3]\n",
    "    \n",
    "    # Get the number of local variables\n",
    "    local_vars = locals()\n",
    "    return len(local_vars)\n",
    "\n",
    "\n",
    "num_local_vars = count_local_variables()\n",
    "print(\"Number of local variables: \", num_local_vars) \n"
   ]
  }
 ],
 "metadata": {
  "kernelspec": {
   "display_name": "Python 3",
   "language": "python",
   "name": "python3"
  },
  "language_info": {
   "codemirror_mode": {
    "name": "ipython",
    "version": 3
   },
   "file_extension": ".py",
   "mimetype": "text/x-python",
   "name": "python",
   "nbconvert_exporter": "python",
   "pygments_lexer": "ipython3",
   "version": "3.12.1"
  }
 },
 "nbformat": 4,
 "nbformat_minor": 2
}
